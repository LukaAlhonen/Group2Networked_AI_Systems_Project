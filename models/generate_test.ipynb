{
 "cells": [
  {
   "cell_type": "markdown",
   "metadata": {},
   "source": [
    "# Generating test set"
   ]
  },
  {
   "cell_type": "markdown",
   "metadata": {},
   "source": [
    "Test set should include following format in consideration of generalization:\n",
    "1. Newly attack types\n",
    "2. (Normal*3000) * 10\n",
    "3. (Attack*3000) * 10\n",
    "4. (random*3000) * 80"
   ]
  },
  {
   "cell_type": "code",
   "execution_count": 1,
   "metadata": {},
   "outputs": [],
   "source": [
    "import pandas as pd"
   ]
  },
  {
   "cell_type": "code",
   "execution_count": 2,
   "metadata": {},
   "outputs": [],
   "source": [
    "attacks = \"E:\\\\Group2Networked_AI_Systems_Project\\\\Data_sets\\\\parquet_datasets\\\\part-20220206-20220213_attacks.parquet\"\n",
    "new_attacks = \"E:\\\\Group2Networked_AI_Systems_Project\\\\Data_sets\\\\parquet_datasets\\\\part-20220213-20220220_new_attacks.parquet\"\n",
    "normal1 = \"E:\\\\Group2Networked_AI_Systems_Project\\\\Data_sets\\\\parquet_datasets\\\\part-20211212-20211219.parquet\"\n",
    "normal2 = \"E:\\\\Group2Networked_AI_Systems_Project\\\\Data_sets\\\\parquet_datasets\\\\part-20211219-20211226.parquet\"\n",
    "normal3 = \"E:\\\\Group2Networked_AI_Systems_Project\\\\Data_sets\\\\parquet_datasets\\\\part-20211226-20220102.parquet\""
   ]
  },
  {
   "cell_type": "code",
   "execution_count": 9,
   "metadata": {},
   "outputs": [],
   "source": [
    "output_path = \"E:\\\\Group2Networked_AI_Systems_Project\\\\Data_sets\\\\test_set\""
   ]
  },
  {
   "cell_type": "code",
   "execution_count": 12,
   "metadata": {},
   "outputs": [],
   "source": [
    "# Generate \n",
    "attack = pd.read_parquet(attacks)\n",
    "shuffled_attack = attack.sample(frac=1).reset_index(drop=True)"
   ]
  },
  {
   "cell_type": "code",
   "execution_count": 15,
   "metadata": {},
   "outputs": [],
   "source": [
    "for i in range(0, 10):\n",
    "    batch = shuffled_attack.iloc[i*3000: (i+1)*3000]\n",
    "    batch.to_parquet(f'pure_attack_{i}.parquet')"
   ]
  },
  {
   "cell_type": "code",
   "execution_count": 17,
   "metadata": {},
   "outputs": [],
   "source": [
    "normal_1 = pd.read_parquet(normal1)\n",
    "normal_2 = pd.read_parquet(normal2)\n",
    "normal_3 = pd.read_parquet(normal3)\n",
    "concatenated_df = pd.concat([normal_1, normal_2, normal_3], ignore_index=True)"
   ]
  },
  {
   "cell_type": "code",
   "execution_count": 19,
   "metadata": {},
   "outputs": [
    {
     "data": {
      "text/plain": [
       "(3943791, 23)"
      ]
     },
     "execution_count": 19,
     "metadata": {},
     "output_type": "execute_result"
    }
   ],
   "source": [
    "shuffled_normal = concatenated_df.sample(frac=1).reset_index(drop=True)\n",
    "shuffled_normal.shape"
   ]
  },
  {
   "cell_type": "code",
   "execution_count": 21,
   "metadata": {},
   "outputs": [],
   "source": [
    "for i in range(0, 10):\n",
    "    batch = shuffled_normal.iloc[i*3000: (i+1)*3000]\n",
    "    batch.to_parquet(f'pure_normal_{i}.parquet')"
   ]
  },
  {
   "cell_type": "code",
   "execution_count": 24,
   "metadata": {},
   "outputs": [],
   "source": [
    "shuffled_attack = shuffled_attack.iloc[30000:]\n",
    "shuffled_normal = shuffled_normal.iloc[30000:]"
   ]
  },
  {
   "cell_type": "code",
   "execution_count": 28,
   "metadata": {},
   "outputs": [],
   "source": [
    "attack_sample = shuffled_attack.sample(n=100000, replace=False)"
   ]
  },
  {
   "cell_type": "code",
   "execution_count": 29,
   "metadata": {},
   "outputs": [],
   "source": [
    "normal_sample = shuffled_normal.sample(n=300000, replace=False)"
   ]
  },
  {
   "cell_type": "code",
   "execution_count": 30,
   "metadata": {},
   "outputs": [],
   "source": [
    "traffic = pd.concat([normal_sample, attack_sample], ignore_index=True)"
   ]
  },
  {
   "cell_type": "code",
   "execution_count": 31,
   "metadata": {},
   "outputs": [
    {
     "data": {
      "text/plain": [
       "(400000, 23)"
      ]
     },
     "execution_count": 31,
     "metadata": {},
     "output_type": "execute_result"
    }
   ],
   "source": [
    "traffic.shape"
   ]
  },
  {
   "cell_type": "code",
   "execution_count": 32,
   "metadata": {},
   "outputs": [],
   "source": [
    "for i in range(0, 400000, 5000):\n",
    "    batch = traffic.sample(n=5000, replace=False)\n",
    "    batch.to_parquet(f'traffic_{i//5000}.parquet')\n",
    "    traffic = traffic.drop(batch.index)"
   ]
  }
 ],
 "metadata": {
  "kernelspec": {
   "display_name": "Python 3",
   "language": "python",
   "name": "python3"
  },
  "language_info": {
   "codemirror_mode": {
    "name": "ipython",
    "version": 3
   },
   "file_extension": ".py",
   "mimetype": "text/x-python",
   "name": "python",
   "nbconvert_exporter": "python",
   "pygments_lexer": "ipython3",
   "version": "3.11.4"
  }
 },
 "nbformat": 4,
 "nbformat_minor": 2
}
